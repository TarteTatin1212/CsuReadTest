{
  "nbformat": 4,
  "nbformat_minor": 0,
  "metadata": {
    "colab": {
      "provenance": [],
      "authorship_tag": "ABX9TyO0R1rCgrevqF85PcIS8tYj",
      "include_colab_link": true
    },
    "kernelspec": {
      "name": "python3",
      "display_name": "Python 3"
    },
    "language_info": {
      "name": "python"
    }
  },
  "cells": [
    {
      "cell_type": "markdown",
      "metadata": {
        "id": "view-in-github",
        "colab_type": "text"
      },
      "source": [
        "<a href=\"https://colab.research.google.com/github/TarteTatin1212/CsuReadTest/blob/main/CsvReadTest.ipynb\" target=\"_parent\"><img src=\"https://colab.research.google.com/assets/colab-badge.svg\" alt=\"Open In Colab\"/></a>"
      ]
    },
    {
      "cell_type": "code",
      "execution_count": 1,
      "metadata": {
        "id": "ZSUyRUmRVwii"
      },
      "outputs": [],
      "source": [
        "import matplotlib.pyplot as plt\n",
        "import numpy as np\n",
        "import pandas as pd"
      ]
    },
    {
      "cell_type": "code",
      "source": [
        "#Driveのマウント\n",
        "from google.colab import drive\n",
        "drive.mount('/content/drive')\n",
        "\n",
        "import os\n",
        "os.chdir('/content/drive/MyDrive/Horita_Semi/Senior_Project/datasets')\n"
      ],
      "metadata": {
        "colab": {
          "base_uri": "https://localhost:8080/"
        },
        "id": "tymmsBQ1V5wv",
        "outputId": "e2df999c-a35f-43a9-d849-6b99f1a5845c"
      },
      "execution_count": 2,
      "outputs": [
        {
          "output_type": "stream",
          "name": "stdout",
          "text": [
            "Mounted at /content/drive\n"
          ]
        }
      ]
    },
    {
      "cell_type": "code",
      "source": [
        "data = pd.read_csv('/content/drive/MyDrive/Horita_Semi/Senior_Project/datasets/JPvideos.csv', encoding='utf-8', nrows=1000)\n"
      ],
      "metadata": {
        "id": "Ov90iMMlV8Ze"
      },
      "execution_count": 23,
      "outputs": []
    },
    {
      "cell_type": "code",
      "source": [
        "pd.set_option('display.max_rows', None)  # 行の表示数制限を解除\n",
        "pd.set_option('display.max_columns', None)  # 列の表示数制限を解除"
      ],
      "metadata": {
        "id": "tQa_KeyUW1pS"
      },
      "execution_count": 12,
      "outputs": []
    },
    {
      "cell_type": "code",
      "source": [
        "data"
      ],
      "metadata": {
        "id": "Zlwsnh3_Wv9U"
      },
      "execution_count": null,
      "outputs": []
    },
    {
      "source": [
        "from matplotlib import pyplot as plt\n",
        "import seaborn as sns\n",
        "import pandas as pd\n",
        "plt.subplots(figsize=(8, 8))\n",
        "df_2dhist = pd.DataFrame({\n",
        "    x_label: grp['ratings_disabled'].value_counts()\n",
        "    for x_label, grp in _df_20.groupby('comments_disabled')\n",
        "})\n",
        "sns.heatmap(df_2dhist, cmap='viridis')\n",
        "plt.xlabel('comments_disabled')\n",
        "_ = plt.ylabel('ratings_disabled')"
      ],
      "cell_type": "code",
      "metadata": {
        "id": "LTRwRP5YgW4G"
      },
      "execution_count": null,
      "outputs": []
    },
    {
      "cell_type": "code",
      "source": [
        "# 1000行目から2000行目を読み込みます\n",
        "# skiprows=999 を使用して最初の999行をスキップし、nrows=1000 を使用して次の1000行を読み込みます\n",
        "additional_data1 = pd.read_csv('/content/drive/MyDrive/Horita_Semi/Senior_Project/datasets/JPvideos.csv', encoding='utf-8', skiprows=999, nrows=1000)\n",
        "additional_data1.columns = ['video_id','trending_date','title','channel_title','category_id','publish_time','tags','views','likes','dislikes','comment_count','thumbnail_link','comments_disabled','ratings_disabled','video_error_or_removed','description']"
      ],
      "metadata": {
        "id": "FS8wHGzfWw30"
      },
      "execution_count": 26,
      "outputs": []
    },
    {
      "cell_type": "code",
      "source": [
        "additional_data1"
      ],
      "metadata": {
        "id": "B_T8MNOga9ue"
      },
      "execution_count": null,
      "outputs": []
    },
    {
      "cell_type": "code",
      "source": [
        "additional_data2 = pd.read_csv('/content/drive/MyDrive/Horita_Semi/Senior_Project/datasets/JPvideos.csv', encoding='utf-8', skiprows=1999, nrows=1000)\n",
        "additional_data2.columns = ['video_id','trending_date','title','channel_title','category_id','publish_time','tags','views','likes','dislikes','comment_count','thumbnail_link','comments_disabled','ratings_disabled','video_error_or_removed','description']"
      ],
      "metadata": {
        "id": "AaSxr10Na_ae"
      },
      "execution_count": null,
      "outputs": []
    }
  ]
}